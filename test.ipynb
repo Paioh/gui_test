{
 "cells": [
  {
   "cell_type": "code",
   "execution_count": 5,
   "metadata": {},
   "outputs": [
    {
     "ename": "OperationalError",
     "evalue": "table my_table already exists",
     "output_type": "error",
     "traceback": [
      "\u001b[1;31m---------------------------------------------------------------------------\u001b[0m",
      "\u001b[1;31mOperationalError\u001b[0m                          Traceback (most recent call last)",
      "Cell \u001b[1;32mIn[5], line 4\u001b[0m\n\u001b[0;32m      2\u001b[0m conn  \u001b[38;5;241m=\u001b[39m sqlite3\u001b[38;5;241m.\u001b[39mconnect(\u001b[38;5;124m\"\u001b[39m\u001b[38;5;124mtest.db\u001b[39m\u001b[38;5;124m\"\u001b[39m)\n\u001b[0;32m      3\u001b[0m c \u001b[38;5;241m=\u001b[39m conn\u001b[38;5;241m.\u001b[39mcursor()\n\u001b[1;32m----> 4\u001b[0m \u001b[43mc\u001b[49m\u001b[38;5;241;43m.\u001b[39;49m\u001b[43mexecute\u001b[49m\u001b[43m(\u001b[49m\u001b[38;5;124;43m\"\"\"\u001b[39;49m\u001b[38;5;124;43mCREATE TABLE my_table(id INTEGER,nome TEXT , eta INTEGER, PRIMARY KEY(\u001b[39;49m\u001b[38;5;124;43m\"\u001b[39;49m\u001b[38;5;124;43mid\u001b[39;49m\u001b[38;5;124;43m\"\u001b[39;49m\u001b[38;5;124;43m AUTOINCREMENT))\u001b[39;49m\u001b[38;5;124;43m\"\"\"\u001b[39;49m\u001b[43m)\u001b[49m\n\u001b[0;32m      5\u001b[0m c\u001b[38;5;241m.\u001b[39mexecute(\u001b[38;5;124m'''\u001b[39m\u001b[38;5;124m INSERT INTO my_table(nome, cognome, eta)VALUES(?, ?, ?)\u001b[39m\u001b[38;5;124m'''\u001b[39m ,(\u001b[38;5;124m'\u001b[39m\u001b[38;5;124mtest, test\u001b[39m\u001b[38;5;124m'\u001b[39m, \u001b[38;5;241m1\u001b[39m ))\n\u001b[0;32m      7\u001b[0m conn\u001b[38;5;241m.\u001b[39mcommit()\n",
      "\u001b[1;31mOperationalError\u001b[0m: table my_table already exists"
     ]
    }
   ],
   "source": [
    "import sqlite3\n",
    "conn  = sqlite3.connect(\"test.db\")\n",
    "c = conn.cursor()\n",
    "c.execute(\"\"\"CREATE TABLE my_table(id INTEGER,nome TEXT , eta INTEGER, PRIMARY KEY(\"id\" AUTOINCREMENT))\"\"\")\n",
    "c.execute(''' INSERT INTO my_table(nome, cognome, eta)VALUES(?, ?, ?)''' ,('test, test', 1 ))\n",
    "\n",
    "conn.commit()\n",
    "conn.close()"
   ]
  },
  {
   "cell_type": "code",
   "execution_count": null,
   "metadata": {},
   "outputs": [],
   "source": [
    "import gradio as gr \n",
    "import pandas as pd\n",
    "import sqlite3\n",
    "\n",
    "def inser_data_to_sqlite(nome,cognome,eta):\n",
    "    conn = sqlite3.connect(\"test.db\")\n",
    "    c = conn.cursot()\n",
    "    c.execute(\"INSERT INTO my_table(nome,cognome,eta)VALUES(?,?,?)\",(nome, cognome, eta))\n",
    "    conn.commit()\n",
    "    conn.close()\n",
    "def visualize_data():\n",
    "    conn = sqlite3.connect(\"test.db\")\n",
    "    df = pd.read_sql_query(\"SELECT * FROM my_table\", conn)\n",
    "    conn.close\n",
    "    return df"
   ]
  }
 ],
 "metadata": {
  "kernelspec": {
   "display_name": "Python 3",
   "language": "python",
   "name": "python3"
  },
  "language_info": {
   "codemirror_mode": {
    "name": "ipython",
    "version": 3
   },
   "file_extension": ".py",
   "mimetype": "text/x-python",
   "name": "python",
   "nbconvert_exporter": "python",
   "pygments_lexer": "ipython3",
   "version": "3.10.10"
  }
 },
 "nbformat": 4,
 "nbformat_minor": 2
}
